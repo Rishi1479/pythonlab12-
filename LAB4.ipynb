{
 "cells": [
  {
   "cell_type": "code",
   "execution_count": 2,
   "id": "5d2d8bb1-f189-4680-845a-90673db5727e",
   "metadata": {},
   "outputs": [
    {
     "name": "stdout",
     "output_type": "stream",
     "text": [
      "Square of 5: 25\n",
      "Cube of 3: 27\n",
      "Sum of 10 and 15: 25\n"
     ]
    }
   ],
   "source": [
    "#MAIN_PROGRAM.PY\n",
    "import math_operations\n",
    "result1 = math_operations.square(5)\n",
    "print(\"Square of 5:\",result1)\n",
    "result2 = math_operations.cube(3)\n",
    "print(\"Cube of 3:\",result2)\n",
    "result3 = math_operations.add(10,15)\n",
    "print(\"Sum of 10 and 15:\",result3)"
   ]
  },
  {
   "cell_type": "code",
   "execution_count": 14,
   "id": "0692d951-c922-4c0e-8e08-1664d075c871",
   "metadata": {},
   "outputs": [
    {
     "name": "stdin",
     "output_type": "stream",
     "text": [
      "Enter the number of disks:  5\n"
     ]
    },
    {
     "name": "stdout",
     "output_type": "stream",
     "text": [
      "Move disk 1 from A to C\n",
      "Move disk 2 from A to B\n",
      "Move disk 1 from C to B\n",
      "Move disk 3 from A to C\n",
      "Move disk 1 from B to A\n",
      "Move disk 2 from B to C\n",
      "Move disk 1 from A to C\n",
      "Move disk 4 from A to B\n",
      "Move disk 1 from C to B\n",
      "Move disk 2 from C to A\n",
      "Move disk 1 from B to A\n",
      "Move disk 3 from C to B\n",
      "Move disk 1 from A to C\n",
      "Move disk 2 from A to B\n",
      "Move disk 1 from C to B\n",
      "Move disk 5 from A to C\n",
      "Move disk 1 from B to A\n",
      "Move disk 2 from B to C\n",
      "Move disk 1 from A to C\n",
      "Move disk 3 from B to A\n",
      "Move disk 1 from C to B\n",
      "Move disk 2 from C to A\n",
      "Move disk 1 from B to A\n",
      "Move disk 4 from B to C\n",
      "Move disk 1 from A to C\n",
      "Move disk 2 from A to B\n",
      "Move disk 1 from C to B\n",
      "Move disk 3 from A to C\n",
      "Move disk 1 from B to A\n",
      "Move disk 2 from B to C\n",
      "Move disk 1 from A to C\n"
     ]
    }
   ],
   "source": [
    "#Tower oof Hanoi using methods\n",
    "def tower_of_hanoi(n,source,auxiliary,destination):\n",
    "    if n==1:\n",
    "        print(f\"Move disk 1 from {source} to {destination}\")\n",
    "        return\n",
    "    tower_of_hanoi(n-1,source,destination,auxiliary)\n",
    "    print(f\"Move disk {n} from {source} to {destination}\")\n",
    "    tower_of_hanoi(n-1,auxiliary,source,destination)\n",
    "num_disks=int(input(\"Enter the number of disks: \"))\n",
    "tower_of_hanoi(num_disks,'A','B','C')"
   ]
  },
  {
   "cell_type": "code",
   "execution_count": 18,
   "id": "ba3db001-da8e-483f-aa47-6567e4af2450",
   "metadata": {},
   "outputs": [
    {
     "name": "stdout",
     "output_type": "stream",
     "text": [
      "Number of arguments: 3\n",
      "Arguments: ['C:\\\\Users\\\\SE14\\\\anaconda3\\\\Lib\\\\site-packages\\\\ipykernel_launcher.py', '-f', 'C:\\\\Users\\\\SE14\\\\AppData\\\\Roaming\\\\jupyter\\\\runtime\\\\kernel-4f1de0d4-c90c-488d-b619-1b798b1409ff.json']\n",
      "First argument: -f\n"
     ]
    }
   ],
   "source": [
    "#program to demostrate command line arguments\n",
    "import sys\n",
    "def main():\n",
    "    print(\"Number of arguments:\", len(sys.argv))\n",
    "    print(\"Arguments:\", sys.argv)\n",
    "    if len(sys.argv) > 2:\n",
    "        print(\"First argument:\", sys.argv[1])\n",
    "    else:\n",
    "        print(\"No arguments were passed (except the script name).\")\n",
    "if __name__ == \"__main__\":\n",
    "    main()\n"
   ]
  },
  {
   "cell_type": "code",
   "execution_count": 5,
   "id": "7926f450-b85e-4d53-bba3-f2ba33191225",
   "metadata": {},
   "outputs": [
    {
     "name": "stdout",
     "output_type": "stream",
     "text": [
      "HELLO ,Alice!\n",
      "Addition: 30\n"
     ]
    }
   ],
   "source": [
    "# main.py\n",
    "\n",
    "import MyModule\n",
    "\n",
    "def main():\n",
    "    print(MyModule.greet(\"Alice\"))\n",
    "    print(\"Addition:\", MyModule.add(10, 20))\n",
    "   \n",
    "\n",
    "if __name__ == \"__main__\":\n",
    "    main()\n"
   ]
  },
  {
   "cell_type": "code",
   "execution_count": 8,
   "id": "14f3dbea-922f-4e48-8498-c32d2ca67f84",
   "metadata": {},
   "outputs": [
    {
     "name": "stdout",
     "output_type": "stream",
     "text": [
      "8\n",
      "28\n",
      "hello Bob\n",
      "hello world\n",
      "10\n",
      "40\n"
     ]
    }
   ],
   "source": [
    "#importing many modules in one module\n",
    "import math_ops\n",
    "import string_ops\n",
    "import list_ops\n",
    "\n",
    "def main():\n",
    "    print(math_ops.add(5, 3))              \n",
    "    print(math_ops.multiply(4, 7))         \n",
    "\n",
    "    print(string_ops.greet(\"Bob\"))         \n",
    "    print(string_ops.shout(\"hello world\")) \n",
    "\n",
    "    my_list = [10, 20, 30, 40]\n",
    "    print(list_ops.first_element(my_list)) \n",
    "    print(list_ops.last_element(my_list)) \n",
    "\n",
    "if __name__ == \"__main__\":\n",
    "    main() \n"
   ]
  },
  {
   "cell_type": "code",
   "execution_count": 9,
   "id": "baf2164c-5f9f-4996-9e0f-71eea03eeb79",
   "metadata": {},
   "outputs": [
    {
     "name": "stdout",
     "output_type": "stream",
     "text": [
      "player1\n",
      "  9 of Hearts\n",
      "  5 of Hearts\n",
      "  8 of Diamonds\n",
      "  Ace of Clubs\n",
      "  Queen of Diamonds\n",
      "player2\n",
      "  8 of Clubs\n",
      "  7 of Spades\n",
      "  Queen of Hearts\n",
      "  Queen of Spades\n",
      "  6 of Clubs\n"
     ]
    }
   ],
   "source": [
    "#deck of cards random\n",
    "import random\n",
    "suits = ['Hearts', 'Diamonds', 'Clubs', 'Spades']\n",
    "ranks = ['2', '3', '4', '5', '6', '7', '8', '9', '10', 'Jack', 'Queen', 'King', 'Ace']\n",
    "deck = [f\"{rank} of {suit}\" for suit in suits for rank in ranks]\n",
    "random.shuffle(deck)\n",
    "player1 = deck[:5]\n",
    "player2 = deck[5:10]\n",
    "print(\"player1\")\n",
    "for card in player1:\n",
    "  print(\" \",card)\n",
    "print(\"player2\")\n",
    "for card in player2:\n",
    "  print(\" \",card)"
   ]
  },
  {
   "cell_type": "code",
   "execution_count": 10,
   "id": "6fa61f5c-68e6-4cd5-a8f0-e3a824ca932d",
   "metadata": {},
   "outputs": [
    {
     "name": "stdout",
     "output_type": "stream",
     "text": [
      "Number of days between dates: 15\n"
     ]
    }
   ],
   "source": [
    "#EP-7 count number of dates between two dates\n",
    "from datetime import date\n",
    "start_date = date(2025, 9, 1)\n",
    "end_date = date(2025, 9, 16)\n",
    "delta = end_date - start_date\n",
    "print(\"Number of days between dates:\", delta.days)"
   ]
  },
  {
   "cell_type": "code",
   "execution_count": null,
   "id": "c5392f50-0cfe-4c62-9bc6-33e8dc57fdfc",
   "metadata": {},
   "outputs": [],
   "source": []
  }
 ],
 "metadata": {
  "kernelspec": {
   "display_name": "Python 3 (ipykernel)",
   "language": "python",
   "name": "python3"
  },
  "language_info": {
   "codemirror_mode": {
    "name": "ipython",
    "version": 3
   },
   "file_extension": ".py",
   "mimetype": "text/x-python",
   "name": "python",
   "nbconvert_exporter": "python",
   "pygments_lexer": "ipython3",
   "version": "3.13.5"
  }
 },
 "nbformat": 4,
 "nbformat_minor": 5
}
