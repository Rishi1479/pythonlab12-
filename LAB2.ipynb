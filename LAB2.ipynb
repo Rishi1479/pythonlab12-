{
 "cells": [
  {
   "cell_type": "code",
   "execution_count": 1,
   "id": "22d05166",
   "metadata": {},
   "outputs": [
    {
     "name": "stdout",
     "output_type": "stream",
     "text": [
      "Enter a year: 2020\n",
      "2020 is a leap year.\n"
     ]
    }
   ],
   "source": [
    "#SP-1 and EP-4 LEAP YEAR OR NOT\n",
    "y=int(input(\"Enter a year: \"))\n",
    "if(y%4==0 and y%100!=0)or y%400==0:\n",
    "    print(y,\"is a leap year.\")\n",
    "else:\n",
    "    print(y,\"is not a leap year.\")"
   ]
  },
  {
   "cell_type": "code",
   "execution_count": 9,
   "id": "72985e84",
   "metadata": {},
   "outputs": [
    {
     "name": "stdout",
     "output_type": "stream",
     "text": [
      "Enter the base:6\n",
      "Enter the exponent:4\n",
      "6 raised to the power of 4 is 1296\n"
     ]
    }
   ],
   "source": [
    "#SP-2 Find Exponentiation(Power) of a number\n",
    "b=int(input(\"Enter the base:\"))\n",
    "e=int(input(\"Enter the exponent:\"))\n",
    "r=1\n",
    "e1=e\n",
    "while e>0:\n",
    "    r*=b\n",
    "    e-=1\n",
    "print(f\"{b} raised to the power of {e1} is {r}\")"
   ]
  },
  {
   "cell_type": "code",
   "execution_count": 7,
   "id": "b5d23b13",
   "metadata": {},
   "outputs": [
    {
     "name": "stdout",
     "output_type": "stream",
     "text": [
      "Enter a number:15\n",
      "Prime numbers up to 15 are: 2,3,5,7,11,13\n"
     ]
    }
   ],
   "source": [
    "#SP-3 Generate Prime Numbers up to given number\n",
    "import math as m\n",
    "l=int(input(\"Enter a number:\"))\n",
    "p=[]\n",
    "for n in range(2,l+1):\n",
    "    is_p=True\n",
    "    for d in range(2,m.isqrt(n)+1):\n",
    "        if n%d==0:\n",
    "            is_p=False\n",
    "            break\n",
    "    if is_p:\n",
    "        p.append(n)\n",
    "print(\"Prime numbers up to\",l,\"are:\",\",\".join(map(str,p)))"
   ]
  },
  {
   "cell_type": "code",
   "execution_count": 10,
   "id": "8ef5e1f0",
   "metadata": {},
   "outputs": [
    {
     "name": "stdout",
     "output_type": "stream",
     "text": [
      "Enter a number:5\n",
      "5  is a odd number.\n"
     ]
    }
   ],
   "source": [
    "#EP-1 Even or Odd\n",
    "n=int(input(\"Enter a number:\"))\n",
    "if n%2==0:\n",
    "    print(n,\" is an even number.\")\n",
    "else:\n",
    "    print(n,\" is a odd number.\")"
   ]
  },
  {
   "cell_type": "code",
   "execution_count": 16,
   "id": "d98c1601",
   "metadata": {},
   "outputs": [
    {
     "name": "stdout",
     "output_type": "stream",
     "text": [
      "Enter a character: 4\n",
      "The character '4' does not fall into the defined categories.\n"
     ]
    }
   ],
   "source": [
    "#EP-2 Print given number is upper or lower or spatial character using their ASCII representation\n",
    "char = input(\"Enter a character: \")\n",
    "ascii_value = ord(char)\n",
    "if 65 <= ascii_value <= 90: \n",
    "    print(f\"The character '{char}' is an Uppercase letter.\")\n",
    "elif 97 <= ascii_value <= 122:\n",
    "    print(f\"The character '{char}' is a Lowercase letter.\")\n",
    "elif 32 <= ascii_value <= 47 or 58 <= ascii_value <= 64 or 91 <= ascii_value <= 96 or 123 <= ascii_value <= 126:\n",
    "    print(f\"The character '{char}' is a Special character.\")\n",
    "else:\n",
    "    print(f\"The character '{char}' does not fall into the defined categories.\")\n"
   ]
  },
  {
   "cell_type": "code",
   "execution_count": null,
   "id": "65aff9cb",
   "metadata": {},
   "outputs": [],
   "source": [
    "#EP-3 Largest among three numbers\n",
    "a=int(input(\"Enter a:\"))\n",
    "b=int(input(\"Enter b:\"))\n",
    "c=int(input(\"Enter c:\"))\n",
    "r=max(a,b,c)\n",
    "print(r)"
   ]
  },
  {
   "cell_type": "code",
   "execution_count": 1,
   "id": "1e56d316",
   "metadata": {},
   "outputs": [
    {
     "name": "stdout",
     "output_type": "stream",
     "text": [
      "121\n",
      "Palindrome\n"
     ]
    }
   ],
   "source": [
    "#EP-5 Palindrome\n",
    "n=input()\n",
    "rev=n[::-1]\n",
    "if n==rev:\n",
    "    print(\"Palindrome\")\n",
    "else:\n",
    "    print(\"Not Palindrome\")"
   ]
  },
  {
   "cell_type": "code",
   "execution_count": 1,
   "id": "5519f321",
   "metadata": {},
   "outputs": [
    {
     "name": "stdout",
     "output_type": "stream",
     "text": [
      "12\n",
      "18\n",
      "6\n"
     ]
    }
   ],
   "source": [
    "#EP-6 GCD of a given number using While loop\n",
    "a=int(input())\n",
    "b=int(input())\n",
    "while b!=0:\n",
    "    a,b=b,a%b\n",
    "print(a) "
   ]
  },
  {
   "cell_type": "code",
   "execution_count": 3,
   "id": "012f9764",
   "metadata": {},
   "outputs": [
    {
     "name": "stdout",
     "output_type": "stream",
     "text": [
      "5\n",
      "0 1 2 3 4 5 \n",
      " Reached the end of the loop.\n"
     ]
    }
   ],
   "source": [
    "#EP-7 While with else\n",
    "n=int(input())\n",
    "i=0\n",
    "while i <= n:\n",
    "    print(i,end=\" \")\n",
    "    i+=1\n",
    "else:\n",
    "    print(\"\\nReached the end of the loop.\")"
   ]
  },
  {
   "cell_type": "code",
   "execution_count": 4,
   "id": "cf3d0e1b",
   "metadata": {},
   "outputs": [
    {
     "name": "stdout",
     "output_type": "stream",
     "text": [
      "5\n",
      "5 4 3 2 1 "
     ]
    }
   ],
   "source": [
    "#EP-8 Print sequence of numbers in reverse order\n",
    "n=int(input())\n",
    "while n>0:\n",
    "    print(n,end=\" \")\n",
    "    n-=1"
   ]
  },
  {
   "cell_type": "code",
   "execution_count": 5,
   "id": "b981061e",
   "metadata": {},
   "outputs": [
    {
     "name": "stdout",
     "output_type": "stream",
     "text": [
      "3\n",
      "+\n",
      "  +\n",
      " +++\n",
      "+++++\n"
     ]
    }
   ],
   "source": [
    "#EP-9 Pyramid sequence using for loop\n",
    "n=int(input())\n",
    "c=input()\n",
    "for i in range(1,n+1):\n",
    "    for j in range(n-i):\n",
    "        print(\" \",end=\"\")\n",
    "    for k in range(2*i-1):\n",
    "        print(c,end=\"\")\n",
    "    print()\n",
    "\n"
   ]
  },
  {
   "cell_type": "code",
   "execution_count": 6,
   "id": "1fc6739e",
   "metadata": {},
   "outputs": [
    {
     "name": "stdout",
     "output_type": "stream",
     "text": [
      "Enter a number4\n",
      "0 1 1 2 "
     ]
    }
   ],
   "source": [
    "#EP-10 Fibonacci Series using for loop\n",
    "n = int(input(\"Enter a number\"))\n",
    "a = 0\n",
    "b = 1\n",
    "print(a,b,end=\" \")\n",
    "for _ in range(2,n):\n",
    "    c = a + b\n",
    "    a = b\n",
    "    b = c\n",
    "    print(c,end=\" \")"
   ]
  }
 ],
 "metadata": {
  "kernelspec": {
   "display_name": "Python 3 (ipykernel)",
   "language": "python",
   "name": "python3"
  },
  "language_info": {
   "codemirror_mode": {
    "name": "ipython",
    "version": 3
   },
   "file_extension": ".py",
   "mimetype": "text/x-python",
   "name": "python",
   "nbconvert_exporter": "python",
   "pygments_lexer": "ipython3",
   "version": "3.11.5"
  }
 },
 "nbformat": 4,
 "nbformat_minor": 5
}
