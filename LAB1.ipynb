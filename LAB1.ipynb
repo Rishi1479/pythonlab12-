{
 "cells": [
  {
   "cell_type": "code",
   "execution_count": 1,
   "id": "6c39df6c",
   "metadata": {},
   "outputs": [
    {
     "name": "stdin",
     "output_type": "stream",
     "text": [
      "Enter 1st number:  2\n",
      "Enter 2nd number:  2\n"
     ]
    },
    {
     "name": "stdout",
     "output_type": "stream",
     "text": [
      "Addition:  4\n",
      "Subtraction:  0\n",
      "Multiplication:  4\n",
      "Division:  1.0\n",
      "Integer Division:  1\n",
      "Modulo:  0\n",
      "Exponentiation:  4\n"
     ]
    }
   ],
   "source": [
    "#SP-1 Arithmetic Operators\n",
    "n1 = int(input(\"Enter 1st number: \"))\n",
    "n2 = int(input(\"Enter 2nd number: \"))\n",
    "add = n1 + n2\n",
    "print(\"Addition: \",add)\n",
    "sub = n1 - n2\n",
    "print(\"Subtraction: \",sub)\n",
    "mul = n1 * n2\n",
    "print(\"Multiplication: \",mul)\n",
    "div = n1 / n2\n",
    "print(\"Division: \",div)\n",
    "int_div = n1 // n2\n",
    "print(\"Integer Division: \",int_div)\n",
    "mod = n1 % n2\n",
    "print(\"Modulo: \",mod)\n",
    "exp = n1 ** n2\n",
    "print(\"Exponentiation: \",exp)"
   ]
  },
  {
   "cell_type": "code",
   "execution_count": 5,
   "id": "e51db1b0",
   "metadata": {},
   "outputs": [
    {
     "name": "stdout",
     "output_type": "stream",
     "text": [
      "Enter 1st boolean value (True or False): 22\n",
      "Enter 2nd boolean value (True or False): 55\n",
      "Logical AND:  True\n",
      "Logical OR:  True\n",
      "Logical NOT for the first value:  False\n",
      "Logical NOT for the second value:  False\n"
     ]
    }
   ],
   "source": [
    "#SP-2 Logical Operators\n",
    "f_val = bool(int(input(\"Enter 1st boolean value (True or False): \")))\n",
    "s_val = bool(int(input(\"Enter 2nd boolean value (True or False): \")))\n",
    "l_and = f_val and s_val\n",
    "print(\"Logical AND: \",l_and)\n",
    "l_or = f_val or s_val\n",
    "print(\"Logical OR: \",l_or)\n",
    "not_f_val = not f_val\n",
    "not_s_val = not s_val\n",
    "print(\"Logical NOT for the first value: \",not_f_val)\n",
    "print(\"Logical NOT for the second value: \",not_s_val)"
   ]
  },
  {
   "cell_type": "code",
   "execution_count": 4,
   "id": "ff657d04",
   "metadata": {},
   "outputs": [
    {
     "name": "stdin",
     "output_type": "stream",
     "text": [
      "Please enter a string:  World\n"
     ]
    },
    {
     "name": "stdout",
     "output_type": "stream",
     "text": [
      " \"World\" is the same as \"Hello\": False\n",
      " \"World\" is not the same as \"World\": True\n"
     ]
    }
   ],
   "source": [
    "#SP-3 Identity Operator\n",
    "str = input(\"Please enter a string: \")\n",
    "s = \"Hello\"\n",
    "s1 = \"World\"\n",
    "is_hello = str is s\n",
    "is_not_hello = str is not s1\n",
    "print(f\" \\\"{str}\\\" is the same as \\\"Hello\\\":\",is_hello)\n",
    "print(f\" \\\"{str}\\\" is not the same as \\\"World\\\":\",is_not_hello)"
   ]
  },
  {
   "cell_type": "code",
   "execution_count": 8,
   "id": "9a08365f-c931-472d-b027-02ac9c0aa1a0",
   "metadata": {},
   "outputs": [
    {
     "name": "stdin",
     "output_type": "stream",
     "text": [
      "Enter 1st num:  5\n",
      "Enter 2nd num:  7\n"
     ]
    },
    {
     "name": "stdout",
     "output_type": "stream",
     "text": [
      "5 == 7.0 False\n",
      "5 != 7.0 True\n",
      "5 < 7.0 True\n",
      "5 > 7.0 False\n",
      "5 >= 7.0 False\n",
      "5 <= 7.0 True\n"
     ]
    }
   ],
   "source": [
    "#EP-1 Comparison or Relational Operators\n",
    "a = int(input(\"Enter 1st num: \"))\n",
    "b = float(input(\"Enter 2nd num: \"))\n",
    "print( a,\"==\",b, a == b )\n",
    "print( a,\"!=\",b, a != b )\n",
    "print( a,\"<\",b, a < b )\n",
    "print( a,\">\",b, a > b )\n",
    "print( a,\">=\",b, a >= b )\n",
    "print( a,\"<=\",b, a <= b )"
   ]
  },
  {
   "cell_type": "code",
   "execution_count": 12,
   "id": "db7fe623-d93b-4c3c-bc29-f341ece74bab",
   "metadata": {},
   "outputs": [
    {
     "name": "stdin",
     "output_type": "stream",
     "text": [
      "Enter 1st num:  2\n",
      "Enter 2nd num:  3\n"
     ]
    },
    {
     "name": "stdout",
     "output_type": "stream",
     "text": [
      "2 & 3 = 2\n",
      "2 | 3 = 3\n",
      "2 ^ 3 = 1\n",
      "2 >> 3 = 0\n",
      "2 << 3 = 16\n",
      "~ 2 = -3\n",
      "~ 3 = -4\n"
     ]
    }
   ],
   "source": [
    "#EP-2 Logical BITWISE Operators\n",
    "a = int(input(\"Enter 1st num: \"))\n",
    "b = int(input(\"Enter 2nd num: \"))\n",
    "print( a,\"&\",b,\"=\", a & b )\n",
    "print( a,\"|\",b,\"=\", a | b )\n",
    "print( a,\"^\",b,\"=\", a ^ b )\n",
    "print( a,\">>\",b,\"=\", a >> b )\n",
    "print( a,\"<<\",b,\"=\", a << b )\n",
    "print( \"~\",a,\"=\", ~a )\n",
    "print( \"~\",b,\"=\", ~b)"
   ]
  },
  {
   "cell_type": "code",
   "execution_count": 13,
   "id": "b4c3617a-38b8-4b26-9b5c-7db501716e40",
   "metadata": {},
   "outputs": [
    {
     "name": "stdin",
     "output_type": "stream",
     "text": [
      "Enter a number 7\n"
     ]
    },
    {
     "name": "stdout",
     "output_type": "stream",
     "text": [
      "0 1 1 2 3 5 8 "
     ]
    }
   ],
   "source": [
    "#EP-3 Membership Operator\n",
    "n = int(input(\"Enter a number\"))\n",
    "a = 0\n",
    "b = 1\n",
    "print(0,1,end=\" \")\n",
    "for _ in range(2,n):\n",
    "    c = a + b\n",
    "    a = b\n",
    "    b = c\n",
    "    print(c,end=\" \")"
   ]
  },
  {
   "cell_type": "code",
   "execution_count": 32,
   "id": "a6ed7792-5a07-4464-b410-ac1db3206c05",
   "metadata": {},
   "outputs": [
    {
     "name": "stdin",
     "output_type": "stream",
     "text": [
      "Enter 1st num:  2\n",
      "Enter 2nd num:  3\n"
     ]
    },
    {
     "name": "stdout",
     "output_type": "stream",
     "text": [
      "x= 3\n",
      "y= 2\n"
     ]
    }
   ],
   "source": [
    "#EP-4 Swap 2-numbers(Assignment operator)\n",
    "x=int(input(\"Enter 1st num: \"))\n",
    "y=int(input(\"Enter 2nd num: \"))\n",
    "x=x^y\n",
    "y=x^y\n",
    "x=x^y\n",
    "print(\"x=\",x)\n",
    "print(\"y=\",y)"
   ]
  },
  {
   "cell_type": "code",
   "execution_count": 22,
   "id": "6b8740c2-a90d-4e72-a81a-279f4032f438",
   "metadata": {},
   "outputs": [
    {
     "name": "stdin",
     "output_type": "stream",
     "text": [
      "Enter a string:  kits\n"
     ]
    },
    {
     "name": "stdout",
     "output_type": "stream",
     "text": [
      "['kitskitskitskitskits']\n",
      "kitsWarangal\n"
     ]
    }
   ],
   "source": [
    "#EP-5 String Multiplication and Concatenation\n",
    "s=input(\"Enter a string: \")\n",
    "c=s*5\n",
    "d=s+'Warangal'\n",
    "print(c)\n",
    "print(d)"
   ]
  },
  {
   "cell_type": "code",
   "execution_count": 26,
   "id": "80ccb393-d49a-4015-8e58-09a7fe4baadb",
   "metadata": {},
   "outputs": [
    {
     "name": "stdin",
     "output_type": "stream",
     "text": [
      "Enter no of days: 5\n"
     ]
    },
    {
     "name": "stdout",
     "output_type": "stream",
     "text": [
      "432000 seconds\n"
     ]
    }
   ],
   "source": [
    "#EP-6 Number of seconds for X number off-days\n",
    "days=int(input(\"Enter no of days:\"))\n",
    "print((days*24)*60*60,'seconds')"
   ]
  },
  {
   "cell_type": "code",
   "execution_count": 33,
   "id": "56caa0c1-f809-445b-8933-1f81e23f91d6",
   "metadata": {},
   "outputs": [
    {
     "name": "stdin",
     "output_type": "stream",
     "text": [
      "Basic salary:  56893\n"
     ]
    },
    {
     "name": "stdout",
     "output_type": "stream",
     "text": [
      "Total salary:  105252.04999999999\n",
      "34135.799999999996 11378.6 2844.65\n"
     ]
    }
   ],
   "source": [
    "#EP-7 Gross salary\n",
    "basic=int(input(\"Basic salary: \"))\n",
    "da=basic*0.60\n",
    "hra=basic*0.20\n",
    "ta=basic*0.05\n",
    "print(\"Total salary: \",basic+da+hra+ta)\n",
    "print(da,hra,ta)"
   ]
  },
  {
   "cell_type": "code",
   "execution_count": 1,
   "id": "a3d9b74c-51e4-4230-96af-29e55b183150",
   "metadata": {},
   "outputs": [
    {
     "name": "stdout",
     "output_type": "stream",
     "text": [
      "Enter Principle amount: 20000\n",
      "Enter rate of interest: 8\n",
      "Enter time: 2\n",
      "Enter no.of times interest is compounded: 2\n",
      "SI=$3200.00\n",
      "CI=$3397.17\n"
     ]
    }
   ],
   "source": [
    "#EP-8 Simple Interest and Compound Interest\n",
    "p=int(input(\"Enter Principle amount: \"))\n",
    "r=int(input(\"Enter rate of interest: \"))\n",
    "t=int(input(\"Enter time: \"))\n",
    "n=int(input(\"Enter no.of times interest is compounded: \"))\n",
    "si=(p*t*r)/100\n",
    "a=p*(1+r/(n*100))**(n*t)\n",
    "ci=a-p\n",
    "print(f\"SI=${si:.2f}\")\n",
    "print(f\"CI=${ci:.2f}\")"
   ]
  },
  {
   "cell_type": "code",
   "execution_count": 2,
   "id": "a0fbe0ad",
   "metadata": {},
   "outputs": [
    {
     "name": "stdout",
     "output_type": "stream",
     "text": [
      "Enter Co-efficient of a:1\n",
      "Enter Co-efficient of b:-3\n",
      "Enter Co-efficient of c:2\n",
      "x=2.0 and x=1.0\n"
     ]
    }
   ],
   "source": [
    "#EP-9 Solve Quadratic Equation\n",
    "import math\n",
    "a=float(input(\"Enter Co-efficient of a:\"))\n",
    "b=float(input(\"Enter Co-efficient of b:\"))\n",
    "c=float(input(\"Enter Co-efficient of c:\"))\n",
    "D=b**2-4*a*c\n",
    "if D>0:\n",
    "    r1=(-b+math.sqrt(D))/(2*a)\n",
    "    r2=(-b-math.sqrt(D))/(2*a)\n",
    "    print(f\"x={r1} and x={r2}\")\n",
    "elif D==0:\n",
    "    r=-b/(2*a)\n",
    "    print(f\"x={r}\")\n",
    "else:\n",
    "    r=-b/(2*a)\n",
    "    i=math.sqrt(-D)/(2*a)\n",
    "    print(f\"x={r}+{i}i and x={r}-{i}i\")"
   ]
  },
  {
   "cell_type": "code",
   "execution_count": 5,
   "id": "af1831fb",
   "metadata": {},
   "outputs": [
    {
     "name": "stdout",
     "output_type": "stream",
     "text": [
      "Capital cities: India : New Delhi,US : Washington,UK : London,China : Beeging\n"
     ]
    }
   ],
   "source": [
    "#EP-10 Print message using Format specifier\n",
    "US=\"Washington\"\n",
    "India=\"New Delhi\"\n",
    "China=\"Beeging\"\n",
    "UK=\"London\"\n",
    "print(\"Capital cities: India : {},US : {},UK : {},China : {}\".format(India,US,UK,China))"
   ]
  },
  {
   "cell_type": "code",
   "execution_count": null,
   "id": "f9baa5fc",
   "metadata": {},
   "outputs": [],
   "source": []
  }
 ],
 "metadata": {
  "kernelspec": {
   "display_name": "Python 3 (ipykernel)",
   "language": "python",
   "name": "python3"
  },
  "language_info": {
   "codemirror_mode": {
    "name": "ipython",
    "version": 3
   },
   "file_extension": ".py",
   "mimetype": "text/x-python",
   "name": "python",
   "nbconvert_exporter": "python",
   "pygments_lexer": "ipython3",
   "version": "3.13.5"
  }
 },
 "nbformat": 4,
 "nbformat_minor": 5
}
