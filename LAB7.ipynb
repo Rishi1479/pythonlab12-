{
 "cells": [
  {
   "cell_type": "code",
   "execution_count": 6,
   "id": "ac5829ef-534c-46a8-87c4-f3b541ee4d84",
   "metadata": {},
   "outputs": [
    {
     "name": "stdin",
     "output_type": "stream",
     "text": [
      "Enter a string chaturiya\n",
      "Enter the mask character *\n"
     ]
    },
    {
     "data": {
      "text/plain": [
       "['mask_char',\n",
       " 'mask_char',\n",
       " 'a',\n",
       " 'mask_char',\n",
       " 'u',\n",
       " 'mask_char',\n",
       " 'i',\n",
       " 'mask_char',\n",
       " 'a']"
      ]
     },
     "execution_count": 6,
     "metadata": {},
     "output_type": "execute_result"
    }
   ],
   "source": [
    "#SP-1 demonstrate list comprehensions\n",
    "str=input(\"Enter a string\")\n",
    "char=input(\"Enter the mask character\")\n",
    "[x if x in 'aeiou' else 'char' for x in str]\n"
   ]
  },
  {
   "cell_type": "code",
   "execution_count": 9,
   "id": "eaf232bb-7bc1-449f-b01c-c822b585d261",
   "metadata": {},
   "outputs": [
    {
     "name": "stdout",
     "output_type": "stream",
     "text": [
      "words with length5:\n",
      "apple\n",
      "\n",
      "words with length5:\n",
      "apple\n",
      "\n",
      "words with length6:\n",
      "banana\n",
      "\n",
      "words with length5:\n",
      "apple\n",
      "\n",
      "words with length6:\n",
      "banana\n",
      "\n",
      "words with length3:\n",
      "cat\n",
      "\n",
      "words with length5:\n",
      "apple\n",
      "\n",
      "words with length6:\n",
      "banana\n",
      "\n",
      "words with length3:\n",
      "cat\n",
      "dog\n",
      "\n",
      "words with length8:\n",
      "elephant\n",
      "\n"
     ]
    }
   ],
   "source": [
    "#SP-2 words based on word length\n",
    "def display_words_by_length(words):\n",
    "    word_lengths={}\n",
    "    for word in words:\n",
    "        word_length=len(word)\n",
    "        if word_length in word_lengths:\n",
    "            word_lengths[word_length].append(word)\n",
    "        else:\n",
    "            word_lengths[word_length]=[word]\n",
    "            for length, words in word_lengths.items():\n",
    "                print(f\"words with length{length}:\")\n",
    "                for word in words:\n",
    "                    print(word)\n",
    "                print()\n",
    "\n",
    "words = [\"apple\" , \"banana\" , \"cat\" , \"dog\" , \"elephant\"] \n",
    "display_words_by_length(words)"
   ]
  },
  {
   "cell_type": "code",
   "execution_count": 11,
   "id": "8f353d21-0c35-49ec-a0d9-0d78ea91c9e5",
   "metadata": {},
   "outputs": [
    {
     "name": "stdout",
     "output_type": "stream",
     "text": [
      "SQUARES: {576, 529, 676, 625}\n",
      "CUBES: {13824, 15625, 17576, 12167}\n",
      "UPDATE: {576, 13824, 676, 12167, 17576, 15625, 529, 625}\n",
      "ADD: {576, 13824, 676, 12167, 17576, 15625, 529, 625, 1331, 121}\n",
      "POP: 576\n",
      "REMOVE: {13824, 676, 12167, 17576, 15625, 529, 625, 121}\n",
      "CLEAR: set()\n"
     ]
    }
   ],
   "source": [
    "#SP-3 list comprehension with add and update\n",
    "sq=set([x**2 for x in range(23,27)])\n",
    "cu=set([x**3 for x in range(23,27)])\n",
    "print(\"SQUARES:\",sq)\n",
    "print(\"CUBES:\",cu)\n",
    "sq.update(cu)\n",
    "print(\"UPDATE:\",sq)\n",
    "sq.add(11*11)\n",
    "sq.add(11*11*11)\n",
    "print(\"ADD:\",sq)\n",
    "print(\"POP:\",sq.pop())\n",
    "sq.remove(1331)\n",
    "print(\"REMOVE:\",sq)\n",
    "sq.clear()\n",
    "print(\"CLEAR:\",sq)\n"
   ]
  },
  {
   "cell_type": "code",
   "execution_count": 13,
   "id": "fa92e691-49c6-49f5-85f3-0ad7de507eee",
   "metadata": {},
   "outputs": [
    {
     "name": "stdout",
     "output_type": "stream",
     "text": [
      "[(12, 11), (14, 13), (16, 15)]\n"
     ]
    }
   ],
   "source": [
    "#SP-4 for reversing each tuple in a list of tuples\n",
    "tuples=[(11,12),(13,14),(15,16)]\n",
    "reversed_tuples=[]\n",
    "for tup in tuples:\n",
    "    reversed_tup=tuple(reversed(tup))\n",
    "    reversed_tuples.append(reversed_tup)\n",
    "print(reversed_tuples)"
   ]
  },
  {
   "cell_type": "code",
   "execution_count": 14,
   "id": "3933f26b-0e82-4f86-9124-37b871c97965",
   "metadata": {},
   "outputs": [
    {
     "name": "stdout",
     "output_type": "stream",
     "text": [
      "Slice from index 1 to 6 with step 2: [20, 40, 60]\n",
      "Reversed list: [80, 70, 60, 50, 40, 30, 20, 10]\n"
     ]
    }
   ],
   "source": [
    "#EP-1 to demonstrate slice operation on list\n",
    "numbers = [10, 20, 30, 40, 50, 60, 70, 80]\n",
    "slice1 = numbers[1:7:2]\n",
    "print(\"Slice from index 1 to 6 with step 2:\", slice1)  \n",
    "slice2 = numbers[::-1]\n",
    "print(\"Reversed list:\", slice2)\n"
   ]
  },
  {
   "cell_type": "code",
   "execution_count": 20,
   "id": "e62c8144-58fd-45a2-a3d9-0fc4473f06c1",
   "metadata": {},
   "outputs": [
    {
     "name": "stdout",
     "output_type": "stream",
     "text": [
      "[1, 2, 3, 4, 1, 2, 3, 4, 1, 2, 3, 4]\n",
      "Addition: [1, 2, 3, 4, 5, 6, 7, 8]\n"
     ]
    }
   ],
   "source": [
    "#EP-2 arithmetic operations on list\n",
    "list1=[1,2,3,4]\n",
    "list2=[5,6,7,8]\n",
    "list3=list1+list2\n",
    "product=list1*3\n",
    "print(product)\n",
    "print(\"Addition:\",list3)"
   ]
  },
  {
   "cell_type": "code",
   "execution_count": 25,
   "id": "c6b002bb-b394-4c9c-8b82-974d65bb49dc",
   "metadata": {},
   "outputs": [
    {
     "name": "stdout",
     "output_type": "stream",
     "text": [
      "['liked', 'NO', 'NO', 'NO']\n"
     ]
    }
   ],
   "source": [
    "#EP-3 accessing list within list with looping statements\n",
    "colors=[[\"pink\",\"yellow\"],\"blue\",\"black\",\"white\"]\n",
    "favorite=[\"liked\" if i==[\"pink\",\"yellow\"] else \"NO\" for i in colors]\n",
    "print(favorite)"
   ]
  },
  {
   "cell_type": "code",
   "execution_count": 47,
   "id": "a04024df-e70d-4439-9ef0-c83b6ae0c5de",
   "metadata": {},
   "outputs": [
    {
     "name": "stdout",
     "output_type": "stream",
     "text": [
      "3\n",
      "[22, 33, 44, 33, 12, 19, 33, 55, 77]\n",
      "[22, 33, 44, 33, 12, 19, 33, 55, 77, [99, 100]]\n",
      "[22, 33, 44, 33, 14, 12, 19, 33, 55, 77, [99, 100]]\n",
      "[22, 33, 44, 14, 12, 19, 33, 55, 77, [99, 100]]\n",
      "[22, 33, 44, 14, 19, 33, 55, 77, [99, 100]]\n",
      "[22, 33, 44, 14, 19, 33, 55, 77, [99, 100]]\n",
      "<built-in method sort of list object at 0x0000024E3964C5C0>\n",
      "1\n"
     ]
    }
   ],
   "source": [
    "#EP-4 list methods\n",
    "list1=[22,33,44,33,12,19,33]\n",
    "print(list1.count(33))\n",
    "list1.extend([55,77])\n",
    "print(list1)\n",
    "list1.append([99,100])\n",
    "print(list1)\n",
    "list1.insert(4,14)\n",
    "print(list1)\n",
    "list1.pop(3)\n",
    "print(list1)\n",
    "list1.remove(12)\n",
    "print(list1)\n",
    "list1.reverse\n",
    "print(list1)\n",
    "print(list1.sort)\n",
    "print(list1.index(33))\n"
   ]
  },
  {
   "cell_type": "code",
   "execution_count": 49,
   "id": "2c6ed052-8d1d-4bb1-81b3-064be8bdaa97",
   "metadata": {},
   "outputs": [
    {
     "name": "stdout",
     "output_type": "stream",
     "text": [
      "=== Stack Operations ===\n",
      "Stack after pushes: [10, 20, 30]\n",
      "Popped element: 30\n",
      "Stack after pop: [10, 20]\n",
      "\n",
      "=== Queue Operations ===\n",
      "Queue after enqueues: ['A', 'B', 'C']\n",
      "Dequeued element: A\n",
      "Queue after dequeue: ['B', 'C']\n"
     ]
    }
   ],
   "source": [
    "#EP-5 list as queue and stack\n",
    "print(\"=== Stack Operations ===\")\n",
    "stack = []\n",
    "stack.append(10)\n",
    "stack.append(20)\n",
    "stack.append(30)\n",
    "print(\"Stack after pushes:\", stack)\n",
    "top_element = stack.pop()\n",
    "print(\"Popped element:\", top_element)\n",
    "print(\"Stack after pop:\", stack)\n",
    "\n",
    "print(\"\\n=== Queue Operations ===\")\n",
    "queue = []\n",
    "queue.append('A')\n",
    "queue.append('B')\n",
    "queue.append('C')\n",
    "print(\"Queue after enqueues:\", queue)\n",
    "front_element = queue.pop(0)\n",
    "print(\"Dequeued element:\", front_element)\n",
    "print(\"Queue after dequeue:\", queue)\n",
    "\n"
   ]
  },
  {
   "cell_type": "code",
   "execution_count": 2,
   "id": "c11a6794-b503-4814-abd5-6a7fb7300216",
   "metadata": {},
   "outputs": [
    {
     "name": "stdout",
     "output_type": "stream",
     "text": [
      "(1, 2, 3, 4, 5, 'Neha', 'Sabia')\n"
     ]
    },
    {
     "data": {
      "text/plain": [
       "tuple"
      ]
     },
     "execution_count": 2,
     "metadata": {},
     "output_type": "execute_result"
    }
   ],
   "source": [
    "#EP-6 demonstrate tuples \n",
    "\n",
    "t = 1,2,3,4,5,'Neha','Sabia'\n",
    "print(t)\n",
    "type(t)"
   ]
  },
  {
   "cell_type": "code",
   "execution_count": 3,
   "id": "4e7e86b7-d4cd-4068-a873-af24ad574801",
   "metadata": {},
   "outputs": [
    {
     "name": "stdout",
     "output_type": "stream",
     "text": [
      "length: 13\n",
      "5\n",
      "1\n",
      "slice: (1, 3, 5)\n",
      "repeate: (1, 2, 3, 4, 5, 'Neha', 'Sabia', 3, 4, 2, 3, 3, 3, 1, 2, 3, 4, 5, 'Neha', 'Sabia', 3, 4, 2, 3, 3, 3)\n",
      "True\n",
      "1\n",
      "2\n",
      "3\n",
      "4\n",
      "5\n",
      "Neha\n",
      "Sabia\n",
      "3\n",
      "4\n",
      "2\n",
      "3\n",
      "3\n",
      "3\n",
      "index: 6\n"
     ]
    }
   ],
   "source": [
    "#EP-7 Tuple Operations\n",
    "\n",
    "t = 1,2,3,4,5,'Neha','Sabia',3,4,2,3,3,3\n",
    "print('length:',len(t))\n",
    "print(t.count(3))\n",
    "print(t[0])\n",
    "print('slice:',t[0:6:2])\n",
    "print(\"repeate:\",t *2)\n",
    "print(3 in t)\n",
    "for i in t:\n",
    "  print(i)\n",
    "print('index:',t.index('Sabia'))\n",
    "\n"
   ]
  },
  {
   "cell_type": "code",
   "execution_count": 4,
   "id": "45e0d7dd-1d66-4a47-8eca-15f1b4cf9ffc",
   "metadata": {},
   "outputs": [
    {
     "name": "stdout",
     "output_type": "stream",
     "text": [
      "Union: {1, 2, 3, 4, 5, 6}\n",
      "Intersection: {3, 4}\n",
      "Difference: {1, 2}\n"
     ]
    }
   ],
   "source": [
    "#EP-8 Demonstate Set Operations\n",
    "\n",
    "s1 = { 1,2,3,4}\n",
    "\n",
    "s2 = {3,4,5,6}\n",
    "\n",
    "print(\"Union:\",s1 | s2)\n",
    "\n",
    "print('Intersection:',s1 & s2)\n",
    "\n",
    "print('Difference:', s1 - s2)\n",
    "\n"
   ]
  },
  {
   "cell_type": "code",
   "execution_count": 5,
   "id": "a22ae397-1006-4c9f-8f5b-0ef47f380288",
   "metadata": {},
   "outputs": [
    {
     "name": "stdout",
     "output_type": "stream",
     "text": [
      "{1: 'a', 2: 'b', 3: 'c', 4: 'c'}\n",
      "True\n"
     ]
    }
   ],
   "source": [
    "#EP-9 Demonstrate Dictionary\n",
    "\n",
    "d1 = {1:'a', 2:'b', 3:'c', 4:'c'} \n",
    "\n",
    "print(d1)\n",
    "\n",
    "print(d1[4] == d1 [3])"
   ]
  },
  {
   "cell_type": "code",
   "execution_count": 6,
   "id": "91312be5-7ff4-4012-ad42-95b446490081",
   "metadata": {},
   "outputs": [
    {
     "name": "stdout",
     "output_type": "stream",
     "text": [
      "Name: Aarav\n",
      "Grade: Not Available\n",
      "Keys: dict_keys(['name', 'age', 'course'])\n",
      "Values: dict_values(['Aarav', 21, 'Computer Science'])\n",
      "Items: dict_items([('name', 'Aarav'), ('age', 21), ('course', 'Computer Science')])\n",
      "Updated Dictionary: {'name': 'Aarav', 'age': 22, 'course': 'Computer Science', 'grade': 'A'}\n",
      "Removed Course: Computer Science\n",
      "After pop: {'name': 'Aarav', 'age': 22, 'grade': 'A'}\n",
      "Favorite Subject: Math\n",
      "After setdefault: {'name': 'Aarav', 'age': 22, 'grade': 'A', 'favorite_subject': 'Math'}\n",
      "Copied Dictionary: {'name': 'Aarav', 'age': 22, 'grade': 'A', 'favorite_subject': 'Math'}\n",
      "Cleared Dictionary: {}\n"
     ]
    }
   ],
   "source": [
    "#EP-10 Demonstrate Dictionary methods\n",
    "\n",
    "student = {\n",
    "\n",
    "  \"name\": \"Aarav\",\n",
    "\n",
    "  \"age\": 21,\n",
    "\n",
    "  \"course\": \"Computer Science\"\n",
    "\n",
    "}\n",
    "\n",
    "\n",
    "\n",
    "print(\"Name:\", student.get(\"name\"))\n",
    "\n",
    "print(\"Grade:\", student.get(\"grade\", \"Not Available\"))\n",
    "\n",
    "\n",
    "\n",
    "print(\"Keys:\", student.keys())\n",
    "\n",
    "\n",
    "\n",
    "print(\"Values:\", student.values())\n",
    "\n",
    "\n",
    "\n",
    "print(\"Items:\", student.items())\n",
    "\n",
    "\n",
    "\n",
    "student.update({\"grade\": \"A\", \"age\": 22})\n",
    "\n",
    "print(\"Updated Dictionary:\", student)\n",
    "\n",
    "\n",
    "\n",
    "removed_course = student.pop(\"course\")\n",
    "\n",
    "print(\"Removed Course:\", removed_course)\n",
    "\n",
    "print(\"After pop:\", student)\n",
    "\n",
    "\n",
    "\n",
    "fav_subject = student.setdefault(\"favorite_subject\", \"Math\")\n",
    "\n",
    "print(\"Favorite Subject:\", fav_subject)\n",
    "\n",
    "print(\"After setdefault:\", student)\n",
    "\n",
    "\n",
    "\n",
    "student_copy = student.copy()\n",
    "\n",
    "print(\"Copied Dictionary:\", student_copy)\n",
    "\n",
    "\n",
    "\n",
    "student.clear()\n",
    "\n",
    "print(\"Cleared Dictionary:\", student)\n",
    "\n",
    "\n",
    "\n"
   ]
  },
  {
   "cell_type": "code",
   "execution_count": 7,
   "id": "a676cb72-1161-44b1-80ae-57282085f668",
   "metadata": {},
   "outputs": [
    {
     "name": "stdout",
     "output_type": "stream",
     "text": [
      "Aarav\n",
      "B\n",
      "ID: 101, Name: Aarav, Grade: A\n",
      "ID: 102, Name: Diya, Grade: B\n",
      "ID: 103, Name: Kabir, Grade: A+\n",
      "ID: 104, Name: Meera, Grade: A\n"
     ]
    }
   ],
   "source": [
    "#EP-11 Demonstrate Dictionary within Dictionary\n",
    "\n",
    "# Dictionary within a dictionary\n",
    "\n",
    "students = {\n",
    "\n",
    "  \"101\": {\"name\": \"Aarav\", \"age\": 20, \"grade\": \"A\"},\n",
    "\n",
    "  \"102\": {\"name\": \"Diya\", \"age\": 21, \"grade\": \"B\"},\n",
    "\n",
    "  \"103\": {\"name\": \"Kabir\", \"age\": 22, \"grade\": \"A+\"}\n",
    "\n",
    "}\n",
    "\n",
    "\n",
    "\n",
    "print(students[\"101\"][\"name\"])  \n",
    "\n",
    "print(students[\"102\"][\"grade\"])\n",
    "\n",
    "\n",
    "\n",
    "students[\"104\"] = {\"name\": \"Meera\", \"age\": 20, \"grade\": \"A\"}\n",
    "\n",
    "\n",
    "\n",
    "for student_id, info in students.items():\n",
    "\n",
    "  print(f\"ID: {student_id}, Name: {info['name']}, Grade: {info['grade']}\")"
   ]
  },
  {
   "cell_type": "code",
   "execution_count": 8,
   "id": "46476d83-cf49-453e-bdf3-cee419210c26",
   "metadata": {},
   "outputs": [
    {
     "name": "stdout",
     "output_type": "stream",
     "text": [
      "[('Aarav', 85), ('Diya', 92), ('Kabir', 78)]\n",
      "(('Math', 'A'), ('Science', 'B+'), ('History', 'A-'))\n"
     ]
    }
   ],
   "source": [
    "#EP-12 Use of zip() in context of list, tuples\n",
    "\n",
    "names = [\"Aarav\", \"Diya\", \"Kabir\"]\n",
    "\n",
    "scores = [85, 92, 78]\n",
    "\n",
    "\n",
    "\n",
    "paired = list(zip(names, scores))\n",
    "\n",
    "print(paired) \n",
    "\n",
    "\n",
    "\n",
    "subjects = [\"Math\", \"Science\", \"History\"]\n",
    "\n",
    "grades = [\"A\", \"B+\", \"A-\"]\n",
    "\n",
    "\n",
    "\n",
    "paired_tuples = tuple(zip(subjects, grades))\n",
    "\n",
    "print(paired_tuples) \n",
    "\n"
   ]
  },
  {
   "cell_type": "code",
   "execution_count": 9,
   "id": "1a36f925-c94d-4090-a78f-2a482db3c694",
   "metadata": {},
   "outputs": [
    {
     "name": "stdout",
     "output_type": "stream",
     "text": [
      "Most repeated word: 'python' (appears 3 times)\n",
      "Unique words: ['fun', 'developers', 'simplicity', 'readability', 'learn', 'easy', 'of', 'programming', 'and', 'because', 'its', 'language', 'is', 'powerful', 'many', 'to', 'a', 'enjoy', 'use', 'python']\n",
      "Total number of words: 25\n"
     ]
    }
   ],
   "source": [
    "#EP-13 Read paragraph of text and print most repeated word. Also remove the duplicate words and print the total number of words the text\n",
    "\n",
    "# Sample paragraph\n",
    "\n",
    "paragraph = \"\"\"\n",
    "\n",
    "Python is a powerful programming language. Python is easy to learn and fun to use.\n",
    "\n",
    "Many developers enjoy Python because of its simplicity and readability.\n",
    "\n",
    "\"\"\"\n",
    "\n",
    "words = paragraph.lower().replace('.', '').replace(',', '').split()\n",
    "\n",
    "\n",
    "\n",
    "from collections import Counter\n",
    "\n",
    "word_count = Counter(words)\n",
    "\n",
    "\n",
    "\n",
    "most_common_word, frequency = word_count.most_common(1)[0]\n",
    "\n",
    "print(f\"Most repeated word: '{most_common_word}' (appears {frequency} times)\")\n",
    "\n",
    "\n",
    "\n",
    "unique_words = list(set(words))\n",
    "\n",
    "print(f\"Unique words: {unique_words}\")\n",
    "\n",
    "\n",
    "\n",
    "print(f\"Total number of words: {len(words)}\")\n",
    "\n",
    "\n",
    "\n",
    "\n",
    "\n"
   ]
  },
  {
   "cell_type": "code",
   "execution_count": null,
   "id": "d2549ec3-380e-4d04-b878-26f4f699c1a2",
   "metadata": {},
   "outputs": [],
   "source": []
  }
 ],
 "metadata": {
  "kernelspec": {
   "display_name": "Python 3 (ipykernel)",
   "language": "python",
   "name": "python3"
  },
  "language_info": {
   "codemirror_mode": {
    "name": "ipython",
    "version": 3
   },
   "file_extension": ".py",
   "mimetype": "text/x-python",
   "name": "python",
   "nbconvert_exporter": "python",
   "pygments_lexer": "ipython3",
   "version": "3.13.5"
  }
 },
 "nbformat": 4,
 "nbformat_minor": 5
}
