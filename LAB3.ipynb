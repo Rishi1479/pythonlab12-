{
 "cells": [
  {
   "cell_type": "code",
   "execution_count": 2,
   "id": "e0e188ca",
   "metadata": {},
   "outputs": [
    {
     "name": "stdout",
     "output_type": "stream",
     "text": [
      "First Number:45\n",
      "Second Number:95\n",
      "GCD of 45,95 is : 5\n"
     ]
    }
   ],
   "source": [
    "#SP-1 Recursive function to generate GCD of 2 numbers\n",
    "def gcd(a,b):\n",
    "    if b==0:\n",
    "        return a\n",
    "    else:\n",
    "        return gcd(b,a%b)\n",
    "n1=int(input(\"First Number:\"))\n",
    "n2=int(input(\"Second Number:\"))\n",
    "res=gcd(n1,n2)\n",
    "print(f\"GCD of {n1},{n2} is : {res}\")"
   ]
  },
  {
   "cell_type": "code",
   "execution_count": 5,
   "id": "f00b04b7",
   "metadata": {},
   "outputs": [
    {
     "name": "stdout",
     "output_type": "stream",
     "text": [
      "Calling the function with 3 arguments:\n",
      "Argumant 1: Hello\n",
      "Argumant 2: World\n",
      "Argumant 3: Python\n",
      "\n",
      "Calling the function with 5 arguments:\n",
      "Argumant 1: 1\n",
      "Argumant 2: 2\n",
      "Argumant 3: 3\n",
      "Argumant 4: 4\n",
      "Argumant 5: 5\n"
     ]
    }
   ],
   "source": [
    "#SP-2 Variable Length Argument\n",
    "def print_args(*args):\n",
    "    for i,arg in enumerate(args,start=1):\n",
    "        print(f\"Argumant {i}: {arg}\")\n",
    "print(\"Calling the function with 3 arguments:\")\n",
    "print_args(\"Hello\",\"World\",\"Python\")\n",
    "print()\n",
    "print(\"Calling the function with 5 arguments:\")\n",
    "print_args(1,2,3,4,5)"
   ]
  },
  {
   "cell_type": "code",
   "execution_count": 7,
   "id": "60b25aa5",
   "metadata": {},
   "outputs": [
    {
     "name": "stdout",
     "output_type": "stream",
     "text": [
      "Addation: 8\n",
      "Doubled numbers: [2, 4, 6, 8, 10]\n",
      "Even num: [2, 4, 6, 8, 10]\n"
     ]
    }
   ],
   "source": [
    "#SP-3 Lamda Functions\n",
    "add=lambda x,y:x+y\n",
    "res=add(3,5)\n",
    "print(\"Addation:\",res)\n",
    "num=[1,2,3,4,5]\n",
    "doubled=list(map(lambda x:x*2,num))\n",
    "print(\"Doubled numbers:\",doubled)\n",
    "num=[1,2,3,4,5,6,7,8,9,10]\n",
    "evens=list(filter(lambda x:x%2==0,num))\n",
    "print(\"Even num:\",evens)"
   ]
  },
  {
   "cell_type": "code",
   "execution_count": 3,
   "id": "c5e65504",
   "metadata": {},
   "outputs": [
    {
     "name": "stdin",
     "output_type": "stream",
     "text": [
      " 156\n"
     ]
    },
    {
     "name": "stdout",
     "output_type": "stream",
     "text": [
      "156  is not a perfect number\n"
     ]
    }
   ],
   "source": [
    "#EP-1 To check given number is Perfect number or not without passing arguments\n",
    "n=int(input())\n",
    "sum=0\n",
    "for i in range(1,n//2+1):\n",
    "    if n%1==0:\n",
    "        sum+=i\n",
    "if n==sum:\n",
    "    print(n,\" is a perfect number\")\n",
    "else:\n",
    "    print(n,\" is not a perfect number\")"
   ]
  },
  {
   "cell_type": "code",
   "execution_count": 6,
   "id": "aa656648",
   "metadata": {},
   "outputs": [
    {
     "name": "stdin",
     "output_type": "stream",
     "text": [
      " 153\n"
     ]
    },
    {
     "name": "stdout",
     "output_type": "stream",
     "text": [
      "Armstrong number\n"
     ]
    }
   ],
   "source": [
    "#EP-2 Armstrong number\n",
    "def armstrong_num(n):\n",
    "    s=0\n",
    "    org=n\n",
    "    while n!=0:\n",
    "        d=n%10\n",
    "        s+=d*d*d\n",
    "        n//=10\n",
    "    if org==s:\n",
    "        print(\"Armstrong number\")\n",
    "    else:\n",
    "        print(\"Not Armstrong number\")\n",
    "n=int(input())\n",
    "armstrong_num(n)"
   ]
  },
  {
   "cell_type": "code",
   "execution_count": 7,
   "id": "0a2a7d3c",
   "metadata": {},
   "outputs": [
    {
     "name": "stdin",
     "output_type": "stream",
     "text": [
      " 34\n"
     ]
    },
    {
     "name": "stdout",
     "output_type": "stream",
     "text": [
      "34\n",
      "After increment: 38\n"
     ]
    }
   ],
   "source": [
    "#EP-3 Global Variable and Global Keyword\n",
    "n=int(input())\n",
    "def print_n():\n",
    "    print(n)\n",
    "def increment_n():\n",
    "    global n\n",
    "    n+=4\n",
    "    print(\"After increment:\",n)\n",
    "print_n()\n",
    "increment_n()"
   ]
  },
  {
   "cell_type": "code",
   "execution_count": 3,
   "id": "ac74e094",
   "metadata": {},
   "outputs": [
    {
     "name": "stdout",
     "output_type": "stream",
     "text": [
      "name = Neha\n",
      "age = 19\n",
      "country = India\n"
     ]
    }
   ],
   "source": [
    "#EP-4 Keyword arguments\n",
    "def greet(**kwargs):\n",
    "    for key, value in kwargs.items():\n",
    "        print(f\"{key} = {value}\")\n",
    "\n",
    "greet(name=\"Neha\", age=19, country=\"India\")\n"
   ]
  },
  {
   "cell_type": "code",
   "execution_count": 4,
   "id": "012feb90",
   "metadata": {},
   "outputs": [
    {
     "name": "stdout",
     "output_type": "stream",
     "text": [
      "Bob is 30 years old and lives in USA.\n",
      "Anna is 22 years old and lives in USA.\n",
      "John is 30 years old and lives in Canada.\n"
     ]
    }
   ],
   "source": [
    "#EP-5 Default arguments\n",
    "def describe_person(name, age=30, country=\"USA\"):\n",
    "    print(f\"{name} is {age} years old and lives in {country}.\")\n",
    "\n",
    "describe_person(\"Bob\")                          \n",
    "describe_person(\"Anna\", age=22)                \n",
    "describe_person(\"John\", country=\"Canada\")  "
   ]
  },
  {
   "cell_type": "code",
   "execution_count": 12,
   "id": "0504fc7f",
   "metadata": {},
   "outputs": [
    {
     "name": "stdout",
     "output_type": "stream",
     "text": [
      "8\n",
      "0 1 1 2 3 5 8 13 \n"
     ]
    }
   ],
   "source": [
    "#EP-6 Fibonacci series\n",
    "def fibonacci(n):\n",
    "    if n <= 0:\n",
    "        return 0\n",
    "    elif n == 1:\n",
    "        return 1\n",
    "    else:\n",
    "        return fibonacci(n - 1) + fibonacci(n - 2)\n",
    "\n",
    "t=int(input())\n",
    "for i in range(t):\n",
    "    print(fibonacci(i), end=' ')\n",
    "print()"
   ]
  },
  {
   "cell_type": "code",
   "execution_count": 6,
   "id": "3f325482",
   "metadata": {},
   "outputs": [
    {
     "name": "stdout",
     "output_type": "stream",
     "text": [
      "10\n",
      "20\n"
     ]
    }
   ],
   "source": [
    "#EP-7 Lambda function within a function\n",
    "def multiplier(factor):\n",
    "    return lambda x: x * factor\n",
    "\n",
    "double = multiplier(2)\n",
    "\n",
    "print(double(5)) \n",
    "print(double(10)) "
   ]
  },
  {
   "cell_type": "code",
   "execution_count": 7,
   "id": "f9635f01",
   "metadata": {},
   "outputs": [
    {
     "name": "stdout",
     "output_type": "stream",
     "text": [
      "8\n",
      "15\n"
     ]
    }
   ],
   "source": [
    "#EP-8 Lambda function as an argument to another function\n",
    "def apply_operation(x, y, operation):\n",
    "    return operation(x, y)\n",
    "\n",
    "result_add = apply_operation(5, 3, lambda a, b: a + b)\n",
    "print(result_add)  \n",
    "\n",
    "result_mul = apply_operation(5, 3, lambda a, b: a * b)\n",
    "print(result_mul) "
   ]
  },
  {
   "cell_type": "code",
   "execution_count": 9,
   "id": "b7812140",
   "metadata": {},
   "outputs": [
    {
     "name": "stdout",
     "output_type": "stream",
     "text": [
      "Perimeter: 12.57\n",
      "Area: 12.57\n"
     ]
    }
   ],
   "source": [
    "#EP-9 Multiple lambda function within a function using circle parimeter and area example\n",
    "import math\n",
    "\n",
    "def circle_calculations(radius=10):\n",
    "    perimeter = lambda r: 2 * math.pi * r\n",
    "    \n",
    "    area = lambda r: math.pi * r ** 2\n",
    "    \n",
    "    return perimeter(radius), area(radius)\n",
    "\n",
    "p, a = circle_calculations(2)\n",
    "print(f\"Perimeter: {p:.2f}\")\n",
    "print(f\"Area: {a:.2f}\")"
   ]
  },
  {
   "cell_type": "code",
   "execution_count": 11,
   "id": "8dc98257",
   "metadata": {},
   "outputs": [
    {
     "name": "stdout",
     "output_type": "stream",
     "text": [
      "Help on class Calculator in module __main__:\n",
      "\n",
      "class Calculator(builtins.object)\n",
      " |  Simple calculator class.\n",
      " |  \n",
      " |  Methods defined here:\n",
      " |  \n",
      " |  multiply(self, x, y)\n",
      " |      Multiply two numbers.\n",
      " |  \n",
      " |  ----------------------------------------------------------------------\n",
      " |  Data descriptors defined here:\n",
      " |  \n",
      " |  __dict__\n",
      " |      dictionary for instance variables (if defined)\n",
      " |  \n",
      " |  __weakref__\n",
      " |      list of weak references to the object (if defined)\n",
      "\n",
      "Help on function multiply in module __main__:\n",
      "\n",
      "multiply(self, x, y)\n",
      "    Multiply two numbers.\n",
      "\n"
     ]
    }
   ],
   "source": [
    "#EP-10 Python document string and help method\n",
    "class Calculator:\n",
    "    def multiply(self, x, y):\n",
    "        return x * y\n",
    "\n",
    "help(Calculator)\n",
    "help(Calculator.multiply)"
   ]
  },
  {
   "cell_type": "code",
   "execution_count": null,
   "id": "3efbb052",
   "metadata": {},
   "outputs": [],
   "source": []
  }
 ],
 "metadata": {
  "kernelspec": {
   "display_name": "Python 3 (ipykernel)",
   "language": "python",
   "name": "python3"
  },
  "language_info": {
   "codemirror_mode": {
    "name": "ipython",
    "version": 3
   },
   "file_extension": ".py",
   "mimetype": "text/x-python",
   "name": "python",
   "nbconvert_exporter": "python",
   "pygments_lexer": "ipython3",
   "version": "3.13.5"
  }
 },
 "nbformat": 4,
 "nbformat_minor": 5
}
